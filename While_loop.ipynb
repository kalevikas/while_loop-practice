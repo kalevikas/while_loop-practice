{
 "cells": [
  {
   "cell_type": "code",
   "execution_count": 1,
   "id": "a3941cb0",
   "metadata": {},
   "outputs": [
    {
     "name": "stdout",
     "output_type": "stream",
     "text": [
      "python\n",
      "python\n",
      "python\n",
      "python\n",
      "python\n"
     ]
    }
   ],
   "source": [
    "i=1\n",
    "while i<=5:\n",
    "    print(\"python\")\n",
    "    i+=1"
   ]
  },
  {
   "cell_type": "code",
   "execution_count": 3,
   "id": "ea4839a1",
   "metadata": {},
   "outputs": [
    {
     "name": "stdout",
     "output_type": "stream",
     "text": [
      "['__add__', '__class__', '__contains__', '__delattr__', '__delitem__', '__dir__', '__doc__', '__eq__', '__format__', '__ge__', '__getattribute__', '__getitem__', '__gt__', '__hash__', '__iadd__', '__imul__', '__init__', '__init_subclass__', '__iter__', '__le__', '__len__', '__lt__', '__mul__', '__ne__', '__new__', '__reduce__', '__reduce_ex__', '__repr__', '__reversed__', '__rmul__', '__setattr__', '__setitem__', '__sizeof__', '__str__', '__subclasshook__', 'append', 'clear', 'copy', 'count', 'extend', 'index', 'insert', 'pop', 'remove', 'reverse', 'sort']\n"
     ]
    }
   ],
   "source": [
    "print(dir(list))"
   ]
  },
  {
   "cell_type": "code",
   "execution_count": 4,
   "id": "0520c839",
   "metadata": {},
   "outputs": [
    {
     "name": "stdout",
     "output_type": "stream",
     "text": [
      "['__class__', '__contains__', '__delattr__', '__delitem__', '__dir__', '__doc__', '__eq__', '__format__', '__ge__', '__getattribute__', '__getitem__', '__gt__', '__hash__', '__init__', '__init_subclass__', '__iter__', '__le__', '__len__', '__lt__', '__ne__', '__new__', '__reduce__', '__reduce_ex__', '__repr__', '__reversed__', '__setattr__', '__setitem__', '__sizeof__', '__str__', '__subclasshook__', 'clear', 'copy', 'fromkeys', 'get', 'items', 'keys', 'pop', 'popitem', 'setdefault', 'update', 'values']\n"
     ]
    }
   ],
   "source": [
    "print(dir(dict))"
   ]
  },
  {
   "cell_type": "code",
   "execution_count": 5,
   "id": "fd45bd03",
   "metadata": {},
   "outputs": [
    {
     "name": "stdout",
     "output_type": "stream",
     "text": [
      "['__and__', '__class__', '__contains__', '__delattr__', '__dir__', '__doc__', '__eq__', '__format__', '__ge__', '__getattribute__', '__gt__', '__hash__', '__iand__', '__init__', '__init_subclass__', '__ior__', '__isub__', '__iter__', '__ixor__', '__le__', '__len__', '__lt__', '__ne__', '__new__', '__or__', '__rand__', '__reduce__', '__reduce_ex__', '__repr__', '__ror__', '__rsub__', '__rxor__', '__setattr__', '__sizeof__', '__str__', '__sub__', '__subclasshook__', '__xor__', 'add', 'clear', 'copy', 'difference', 'difference_update', 'discard', 'intersection', 'intersection_update', 'isdisjoint', 'issubset', 'issuperset', 'pop', 'remove', 'symmetric_difference', 'symmetric_difference_update', 'union', 'update']\n"
     ]
    }
   ],
   "source": [
    "print(dir(set))"
   ]
  },
  {
   "cell_type": "markdown",
   "id": "ee26c657",
   "metadata": {},
   "source": [
    "#                        # while loop"
   ]
  },
  {
   "cell_type": "code",
   "execution_count": 16,
   "id": "af54e98b",
   "metadata": {},
   "outputs": [
    {
     "name": "stdout",
     "output_type": "stream",
     "text": [
      "Vikas\tKale\tKale\tKale\tKale\tVikas\tKale\tKale\tKale\tKale\tVikas\tKale\tKale\tKale\tKale\tVikas\tKale\tKale\tKale\tKale\tVikas\tKale\tKale\tKale\tKale\t"
     ]
    }
   ],
   "source": [
    "i=1\n",
    "while i<=5:\n",
    "    print( \"Vikas\"  ,  end = \"\\t\")\n",
    "    i+=1\n",
    "    j=1\n",
    "    while j<=4:\n",
    "        print(\"Kale\"  ,  end=\"\\t\")\n",
    "        j+=1\n",
    "        \n",
    "\n",
    "    "
   ]
  },
  {
   "cell_type": "code",
   "execution_count": 20,
   "id": "ae8a9faa",
   "metadata": {},
   "outputs": [
    {
     "name": "stdout",
     "output_type": "stream",
     "text": [
      "1\n",
      "2\n",
      "3\n",
      "5\n"
     ]
    }
   ],
   "source": [
    "for i in range(1,6):\n",
    "   \n",
    "    if i==4:continue\n",
    "    print(i)"
   ]
  },
  {
   "cell_type": "code",
   "execution_count": 3,
   "id": "0c55b145",
   "metadata": {},
   "outputs": [
    {
     "name": "stdout",
     "output_type": "stream",
     "text": [
      "my_course 1\n",
      "my_course 2\n",
      "my_course 3\n",
      "my_course 4\n",
      "my_course 5\n",
      "done\n"
     ]
    }
   ],
   "source": [
    "i=1\n",
    "while i <=5:\n",
    "    print(\"my_course\",i)\n",
    "    i=i+1\n",
    "else:\n",
    "    print(\"done\")\n",
    "    "
   ]
  },
  {
   "cell_type": "code",
   "execution_count": 4,
   "id": "c14213bc",
   "metadata": {},
   "outputs": [
    {
     "name": "stdout",
     "output_type": "stream",
     "text": [
      "python 10\n",
      "python 9\n",
      "python 8\n",
      "python 7\n",
      "python 6\n",
      "python 5\n",
      "Django\n"
     ]
    }
   ],
   "source": [
    "i=10\n",
    "while i>=5:\n",
    "    print(\"python\",i)\n",
    "    i=i-1\n",
    "else:\n",
    "    print(\"Django\")"
   ]
  },
  {
   "cell_type": "code",
   "execution_count": null,
   "id": "460fe637",
   "metadata": {},
   "outputs": [],
   "source": [
    "practice from starting\n",
    "1]print\n",
    "2]dir\n",
    "3]isinstance\n",
    "4]help\n",
    "5]ord  chr\n",
    "\n",
    "\n",
    "1]int\n",
    "2]float\n",
    "3]bool\n",
    "4]str---->strip()...return a copy of string\n",
    "5]list--->[]\n",
    "6]tuple--->()\n",
    "7]dict--->{\"keys\":\"values\"}\n",
    "8]set---->set()  or {}\n",
    "\n",
    "\n",
    ">>>for replacing character use .replace function."
   ]
  },
  {
   "cell_type": "code",
   "execution_count": 25,
   "id": "d1cc9996",
   "metadata": {},
   "outputs": [
    {
     "name": "stdout",
     "output_type": "stream",
     "text": [
      "Help on method_descriptor:\n",
      "\n",
      "strip(self, chars=None, /)\n",
      "    Return a copy of the string with leading and trailing whitespace removed.\n",
      "    \n",
      "    If chars is given and not None, remove characters in chars instead.\n",
      "\n"
     ]
    }
   ],
   "source": [
    "help(str.strip)"
   ]
  },
  {
   "cell_type": "code",
   "execution_count": 30,
   "id": "7b5d9028",
   "metadata": {},
   "outputs": [],
   "source": [
    "num=\"Vikas\"\n"
   ]
  },
  {
   "cell_type": "code",
   "execution_count": 31,
   "id": "36a451a8",
   "metadata": {},
   "outputs": [
    {
     "data": {
      "text/plain": [
       "'Vikas'"
      ]
     },
     "execution_count": 31,
     "metadata": {},
     "output_type": "execute_result"
    }
   ],
   "source": [
    "num.strip()"
   ]
  },
  {
   "cell_type": "code",
   "execution_count": 33,
   "id": "88d012d9",
   "metadata": {},
   "outputs": [
    {
     "data": {
      "text/plain": [
       "'Raje'"
      ]
     },
     "execution_count": 33,
     "metadata": {},
     "output_type": "execute_result"
    }
   ],
   "source": [
    "num.replace(\"Vikas\",\"Raje\")"
   ]
  },
  {
   "cell_type": "code",
   "execution_count": 34,
   "id": "f50c6b07",
   "metadata": {},
   "outputs": [
    {
     "data": {
      "text/plain": [
       "'Vikas'"
      ]
     },
     "execution_count": 34,
     "metadata": {},
     "output_type": "execute_result"
    }
   ],
   "source": [
    "num"
   ]
  },
  {
   "cell_type": "code",
   "execution_count": 37,
   "id": "c76bdf81",
   "metadata": {},
   "outputs": [
    {
     "name": "stdout",
     "output_type": "stream",
     "text": [
      "My name is John, and I am 36\n"
     ]
    }
   ],
   "source": [
    "age = 36\n",
    "txt = \"My name is John, and I am {}\"\n",
    "print(txt.format(age))"
   ]
  },
  {
   "cell_type": "code",
   "execution_count": 38,
   "id": "aca994c3",
   "metadata": {},
   "outputs": [
    {
     "data": {
      "text/plain": [
       "int"
      ]
     },
     "execution_count": 38,
     "metadata": {},
     "output_type": "execute_result"
    }
   ],
   "source": [
    "type(age)"
   ]
  },
  {
   "cell_type": "code",
   "execution_count": 39,
   "id": "a4d66439",
   "metadata": {},
   "outputs": [
    {
     "data": {
      "text/plain": [
       "str"
      ]
     },
     "execution_count": 39,
     "metadata": {},
     "output_type": "execute_result"
    }
   ],
   "source": [
    "type(txt)"
   ]
  },
  {
   "cell_type": "code",
   "execution_count": 4,
   "id": "7a1d913f",
   "metadata": {},
   "outputs": [
    {
     "name": "stdout",
     "output_type": "stream",
     "text": [
      "vikas\n",
      "done\n"
     ]
    }
   ],
   "source": [
    "i=5\n",
    "while i<=5:\n",
    "    print(\"vikas\")\n",
    "    i+=1\n",
    "    \n",
    "else:\n",
    "    print(\"done\")"
   ]
  },
  {
   "cell_type": "code",
   "execution_count": 1,
   "id": "4d2e0b69",
   "metadata": {},
   "outputs": [
    {
     "name": "stdout",
     "output_type": "stream",
     "text": [
      "['__add__', '__class__', '__contains__', '__delattr__', '__dir__', '__doc__', '__eq__', '__format__', '__ge__', '__getattribute__', '__getitem__', '__getnewargs__', '__gt__', '__hash__', '__init__', '__init_subclass__', '__iter__', '__le__', '__len__', '__lt__', '__mod__', '__mul__', '__ne__', '__new__', '__reduce__', '__reduce_ex__', '__repr__', '__rmod__', '__rmul__', '__setattr__', '__sizeof__', '__str__', '__subclasshook__', 'capitalize', 'casefold', 'center', 'count', 'encode', 'endswith', 'expandtabs', 'find', 'format', 'format_map', 'index', 'isalnum', 'isalpha', 'isascii', 'isdecimal', 'isdigit', 'isidentifier', 'islower', 'isnumeric', 'isprintable', 'isspace', 'istitle', 'isupper', 'join', 'ljust', 'lower', 'lstrip', 'maketrans', 'partition', 'replace', 'rfind', 'rindex', 'rjust', 'rpartition', 'rsplit', 'rstrip', 'split', 'splitlines', 'startswith', 'strip', 'swapcase', 'title', 'translate', 'upper', 'zfill']\n"
     ]
    }
   ],
   "source": [
    "print(dir(str))"
   ]
  },
  {
   "cell_type": "code",
   "execution_count": 2,
   "id": "f61ca382",
   "metadata": {},
   "outputs": [
    {
     "ename": "SyntaxError",
     "evalue": "invalid syntax (<ipython-input-2-526e5a5acb38>, line 1)",
     "output_type": "error",
     "traceback": [
      "\u001b[1;36m  File \u001b[1;32m\"<ipython-input-2-526e5a5acb38>\"\u001b[1;36m, line \u001b[1;32m1\u001b[0m\n\u001b[1;33m    capitalize', 'casefold', 'center', 'count', 'encode', 'endswith', 'expandtabs', 'find', 'format', 'format_map', 'index', 'isalnum', 'isalpha', 'isascii', 'isdecimal', 'isdigit', 'isidentifier', 'islower', 'isnumeric', 'isprintable', 'isspace', 'istitle',\"\\n\", 'isupper', 'join', 'ljust', 'lower', 'lstrip', 'maketrans', 'partition', 'replace', 'rfind', 'rindex', 'rjust', 'rpartition', 'rsplit', 'rstrip', 'split', 'splitlines', 'startswith', 'strip', 'swapcase', 'title', 'translate', 'upper', 'zfill']\u001b[0m\n\u001b[1;37m              ^\u001b[0m\n\u001b[1;31mSyntaxError\u001b[0m\u001b[1;31m:\u001b[0m invalid syntax\n"
     ]
    }
   ],
   "source": [
    "capitalize', 'casefold', 'center', 'count', 'encode', 'endswith', 'expandtabs', 'find', 'format', 'format_map', 'index', 'isalnum', 'isalpha', 'isascii', 'isdecimal', 'isdigit', 'isidentifier', 'islower', 'isnumeric', 'isprintable', 'isspace', 'istitle',\"\\n\", 'isupper', 'join', 'ljust', 'lower', 'lstrip', 'maketrans', 'partition', 'replace', 'rfind', 'rindex', 'rjust', 'rpartition', 'rsplit', 'rstrip', 'split', 'splitlines', 'startswith', 'strip', 'swapcase', 'title', 'translate', 'upper', 'zfill']"
   ]
  },
  {
   "cell_type": "code",
   "execution_count": 3,
   "id": "84dc8c5c",
   "metadata": {},
   "outputs": [
    {
     "name": "stdout",
     "output_type": "stream",
     "text": [
      "Help on method_descriptor:\n",
      "\n",
      "capitalize(self, /)\n",
      "    Return a capitalized version of the string.\n",
      "    \n",
      "    More specifically, make the first character have upper case and the rest lower\n",
      "    case.\n",
      "\n"
     ]
    }
   ],
   "source": [
    "help(str.capitalize)"
   ]
  },
  {
   "cell_type": "code",
   "execution_count": 6,
   "id": "e04c43b3",
   "metadata": {},
   "outputs": [
    {
     "data": {
      "text/plain": [
       "'Vikas'"
      ]
     },
     "execution_count": 6,
     "metadata": {},
     "output_type": "execute_result"
    }
   ],
   "source": [
    "i=\"vikas\"\n",
    "i.capitalize()\n"
   ]
  },
  {
   "cell_type": "code",
   "execution_count": 7,
   "id": "6b62f14a",
   "metadata": {},
   "outputs": [
    {
     "data": {
      "text/plain": [
       "'Raje'"
      ]
     },
     "execution_count": 7,
     "metadata": {},
     "output_type": "execute_result"
    }
   ],
   "source": [
    "r=\"raje\"\n",
    "r.capitalize()"
   ]
  },
  {
   "cell_type": "code",
   "execution_count": 8,
   "id": "9788ad39",
   "metadata": {},
   "outputs": [
    {
     "name": "stdout",
     "output_type": "stream",
     "text": [
      "Help on method_descriptor:\n",
      "\n",
      "casefold(self, /)\n",
      "    Return a version of the string suitable for caseless comparisons.\n",
      "\n"
     ]
    }
   ],
   "source": [
    "help(str.casefold)"
   ]
  },
  {
   "cell_type": "code",
   "execution_count": 9,
   "id": "5b61f07d",
   "metadata": {},
   "outputs": [
    {
     "data": {
      "text/plain": [
       "'raje'"
      ]
     },
     "execution_count": 9,
     "metadata": {},
     "output_type": "execute_result"
    }
   ],
   "source": [
    "r"
   ]
  },
  {
   "cell_type": "code",
   "execution_count": 10,
   "id": "fa8564c9",
   "metadata": {},
   "outputs": [
    {
     "data": {
      "text/plain": [
       "'raje'"
      ]
     },
     "execution_count": 10,
     "metadata": {},
     "output_type": "execute_result"
    }
   ],
   "source": [
    "r.casefold()"
   ]
  },
  {
   "cell_type": "code",
   "execution_count": 12,
   "id": "05f143dd",
   "metadata": {},
   "outputs": [
    {
     "data": {
      "text/plain": [
       "'raje'"
      ]
     },
     "execution_count": 12,
     "metadata": {},
     "output_type": "execute_result"
    }
   ],
   "source": [
    "r=(\"RAJE\")\n",
    "r.casefold()"
   ]
  },
  {
   "cell_type": "code",
   "execution_count": 24,
   "id": "0891ccad",
   "metadata": {},
   "outputs": [
    {
     "data": {
      "text/plain": [
       "'shree'"
      ]
     },
     "execution_count": 24,
     "metadata": {},
     "output_type": "execute_result"
    }
   ],
   "source": [
    "I=\"SHREE\"\n",
    "I.casefold()"
   ]
  },
  {
   "cell_type": "code",
   "execution_count": 14,
   "id": "42a8c21a",
   "metadata": {},
   "outputs": [
    {
     "name": "stdout",
     "output_type": "stream",
     "text": [
      "Help on method_descriptor:\n",
      "\n",
      "center(self, width, fillchar=' ', /)\n",
      "    Return a centered string of length width.\n",
      "    \n",
      "    Padding is done using the specified fill character (default is a space).\n",
      "\n"
     ]
    }
   ],
   "source": [
    "help(str.center)"
   ]
  },
  {
   "cell_type": "code",
   "execution_count": 30,
   "id": "4e9e2d35",
   "metadata": {},
   "outputs": [
    {
     "data": {
      "text/plain": [
       "'..........................................SHREE...........................................'"
      ]
     },
     "execution_count": 30,
     "metadata": {},
     "output_type": "execute_result"
    }
   ],
   "source": [
    "I.center(90,\".\")"
   ]
  },
  {
   "cell_type": "code",
   "execution_count": 31,
   "id": "96f7dc3f",
   "metadata": {},
   "outputs": [
    {
     "name": "stdout",
     "output_type": "stream",
     "text": [
      "Help on method_descriptor:\n",
      "\n",
      "count(...)\n",
      "    S.count(sub[, start[, end]]) -> int\n",
      "    \n",
      "    Return the number of non-overlapping occurrences of substring sub in\n",
      "    string S[start:end].  Optional arguments start and end are\n",
      "    interpreted as in slice notation.\n",
      "\n"
     ]
    }
   ],
   "source": [
    "help(str.count)"
   ]
  },
  {
   "cell_type": "code",
   "execution_count": 33,
   "id": "af03b13a",
   "metadata": {},
   "outputs": [
    {
     "data": {
      "text/plain": [
       "2"
      ]
     },
     "execution_count": 33,
     "metadata": {},
     "output_type": "execute_result"
    }
   ],
   "source": [
    "I.count(\"E\")"
   ]
  },
  {
   "cell_type": "code",
   "execution_count": 34,
   "id": "5abb4274",
   "metadata": {},
   "outputs": [
    {
     "name": "stdout",
     "output_type": "stream",
     "text": [
      "Help on method_descriptor:\n",
      "\n",
      "encode(self, /, encoding='utf-8', errors='strict')\n",
      "    Encode the string using the codec registered for encoding.\n",
      "    \n",
      "    encoding\n",
      "      The encoding in which to encode the string.\n",
      "    errors\n",
      "      The error handling scheme to use for encoding errors.\n",
      "      The default is 'strict' meaning that encoding errors raise a\n",
      "      UnicodeEncodeError.  Other possible values are 'ignore', 'replace' and\n",
      "      'xmlcharrefreplace' as well as any other name registered with\n",
      "      codecs.register_error that can handle UnicodeEncodeErrors.\n",
      "\n"
     ]
    }
   ],
   "source": [
    "help(str.encode)"
   ]
  },
  {
   "cell_type": "code",
   "execution_count": 35,
   "id": "5961134a",
   "metadata": {},
   "outputs": [
    {
     "data": {
      "text/plain": [
       "b'SHREE'"
      ]
     },
     "execution_count": 35,
     "metadata": {},
     "output_type": "execute_result"
    }
   ],
   "source": [
    "I.encode()"
   ]
  },
  {
   "cell_type": "code",
   "execution_count": 36,
   "id": "ffe20cba",
   "metadata": {},
   "outputs": [
    {
     "name": "stdout",
     "output_type": "stream",
     "text": [
      "['__add__', '__class__', '__contains__', '__delattr__', '__dir__', '__doc__', '__eq__', '__format__', '__ge__', '__getattribute__', '__getitem__', '__getnewargs__', '__gt__', '__hash__', '__init__', '__init_subclass__', '__iter__', '__le__', '__len__', '__lt__', '__mod__', '__mul__', '__ne__', '__new__', '__reduce__', '__reduce_ex__', '__repr__', '__rmod__', '__rmul__', '__setattr__', '__sizeof__', '__str__', '__subclasshook__', 'capitalize', 'casefold', 'center', 'count', 'encode', 'endswith', 'expandtabs', 'find', 'format', 'format_map', 'index', 'isalnum', 'isalpha', 'isascii', 'isdecimal', 'isdigit', 'isidentifier', 'islower', 'isnumeric', 'isprintable', 'isspace', 'istitle', 'isupper', 'join', 'ljust', 'lower', 'lstrip', 'maketrans', 'partition', 'replace', 'rfind', 'rindex', 'rjust', 'rpartition', 'rsplit', 'rstrip', 'split', 'splitlines', 'startswith', 'strip', 'swapcase', 'title', 'translate', 'upper', 'zfill']\n"
     ]
    }
   ],
   "source": [
    "print(dir(str))"
   ]
  },
  {
   "cell_type": "code",
   "execution_count": 38,
   "id": "06758eac",
   "metadata": {},
   "outputs": [
    {
     "name": "stdout",
     "output_type": "stream",
     "text": [
      "Help on method_descriptor:\n",
      "\n",
      "endswith(...)\n",
      "    S.endswith(suffix[, start[, end]]) -> bool\n",
      "    \n",
      "    Return True if S ends with the specified suffix, False otherwise.\n",
      "    With optional start, test S beginning at that position.\n",
      "    With optional end, stop comparing S at that position.\n",
      "    suffix can also be a tuple of strings to try.\n",
      "\n"
     ]
    }
   ],
   "source": [
    "help(str.endswith)"
   ]
  },
  {
   "cell_type": "code",
   "execution_count": 39,
   "id": "43554b71",
   "metadata": {},
   "outputs": [
    {
     "data": {
      "text/plain": [
       "'SHREE'"
      ]
     },
     "execution_count": 39,
     "metadata": {},
     "output_type": "execute_result"
    }
   ],
   "source": [
    "I"
   ]
  },
  {
   "cell_type": "code",
   "execution_count": 42,
   "id": "b36f05f8",
   "metadata": {},
   "outputs": [
    {
     "data": {
      "text/plain": [
       "False"
      ]
     },
     "execution_count": 42,
     "metadata": {},
     "output_type": "execute_result"
    }
   ],
   "source": [
    "I.endswith(\".\")"
   ]
  },
  {
   "cell_type": "code",
   "execution_count": 5,
   "id": "6541ff7b",
   "metadata": {},
   "outputs": [
    {
     "data": {
      "text/plain": [
       "True"
      ]
     },
     "execution_count": 5,
     "metadata": {},
     "output_type": "execute_result"
    }
   ],
   "source": [
    "r=\"John.\"\n",
    "r.endswith(\".\")"
   ]
  },
  {
   "cell_type": "code",
   "execution_count": 1,
   "id": "a95d4bcd",
   "metadata": {},
   "outputs": [
    {
     "name": "stdout",
     "output_type": "stream",
     "text": [
      "97\n",
      "98\n",
      "99\n",
      "100\n",
      "101\n",
      "102\n",
      "103\n",
      "104\n",
      "105\n",
      "106\n",
      "107\n",
      "108\n",
      "109\n",
      "110\n",
      "111\n",
      "112\n",
      "113\n",
      "114\n",
      "115\n",
      "116\n",
      "117\n",
      "118\n",
      "119\n",
      "120\n",
      "121\n",
      "122\n"
     ]
    }
   ],
   "source": [
    "for c in range(97,123):\n",
    "    print(c)\n"
   ]
  },
  {
   "cell_type": "markdown",
   "id": "9f223969",
   "metadata": {},
   "source": [
    "# how to print a to z"
   ]
  },
  {
   "cell_type": "code",
   "execution_count": 2,
   "id": "92991b27",
   "metadata": {},
   "outputs": [
    {
     "name": "stdout",
     "output_type": "stream",
     "text": [
      "a\n",
      "b\n",
      "c\n",
      "d\n",
      "e\n",
      "f\n",
      "g\n",
      "h\n",
      "i\n",
      "j\n",
      "k\n",
      "l\n",
      "m\n",
      "n\n",
      "o\n",
      "p\n",
      "q\n",
      "r\n",
      "s\n",
      "t\n",
      "u\n",
      "v\n",
      "w\n",
      "x\n",
      "y\n",
      "z\n"
     ]
    }
   ],
   "source": [
    "for c in range(97,123):\n",
    "    print(chr(c))"
   ]
  },
  {
   "cell_type": "markdown",
   "id": "fdd50a4d",
   "metadata": {},
   "source": [
    "# how to print A to Z"
   ]
  },
  {
   "cell_type": "code",
   "execution_count": 5,
   "id": "2e231251",
   "metadata": {},
   "outputs": [
    {
     "name": "stdout",
     "output_type": "stream",
     "text": [
      "A\tB\tC\tD\tE\tF\tG\tH\tI\tJ\tK\tL\tM\tN\tO\tP\tQ\tR\tS\tT\tU\tV\tW\tX\tY\tZ\t"
     ]
    }
   ],
   "source": [
    "for i in range(65,91):\n",
    "    print(chr(i),end=\"\\t\")"
   ]
  },
  {
   "cell_type": "markdown",
   "id": "d2ff5a97",
   "metadata": {},
   "source": [
    "# print 0 to 9 using chr:"
   ]
  },
  {
   "cell_type": "code",
   "execution_count": 10,
   "id": "3a41a3f8",
   "metadata": {},
   "outputs": [
    {
     "name": "stdout",
     "output_type": "stream",
     "text": [
      "0\n",
      "1\n",
      "2\n",
      "3\n",
      "4\n",
      "5\n",
      "6\n",
      "7\n",
      "8\n",
      "9\n"
     ]
    }
   ],
   "source": [
    "for i in range(48,58):\n",
    "    print(chr(i))"
   ]
  },
  {
   "cell_type": "markdown",
   "id": "3793c219",
   "metadata": {},
   "source": [
    "# print table using while loop\n"
   ]
  },
  {
   "cell_type": "code",
   "execution_count": 11,
   "id": "8c917de0",
   "metadata": {},
   "outputs": [
    {
     "name": "stdout",
     "output_type": "stream",
     "text": [
      "Enter a number : 8\n",
      "8\n",
      "16\n",
      "24\n",
      "32\n",
      "40\n",
      "48\n",
      "56\n",
      "64\n",
      "72\n",
      "80\n"
     ]
    }
   ],
   "source": [
    "num=int(input(\"Enter a number : \"))\n",
    "i=1\n",
    "while i<11:\n",
    "    print(num*i)\n",
    "    i=i+1"
   ]
  },
  {
   "cell_type": "code",
   "execution_count": 15,
   "id": "d4f7f112",
   "metadata": {},
   "outputs": [
    {
     "name": "stdout",
     "output_type": "stream",
     "text": [
      "Enter a number : 5\n",
      "5\n",
      "10\n",
      "15\n",
      "20\n",
      "25\n",
      "30\n",
      "35\n",
      "40\n",
      "45\n",
      "50\n"
     ]
    }
   ],
   "source": [
    "number=int(input(\"Enter a number : \"))\n",
    "i=1\n",
    "while i<11:\n",
    "    print(number*i)\n",
    "    i=i+1"
   ]
  },
  {
   "cell_type": "markdown",
   "id": "6c228b16",
   "metadata": {},
   "source": [
    "# print table from 2 to 10 using while loop"
   ]
  },
  {
   "cell_type": "code",
   "execution_count": 17,
   "id": "c700a78e",
   "metadata": {},
   "outputs": [
    {
     "name": "stdout",
     "output_type": "stream",
     "text": [
      "1\t2\t3\t4\t5\t6\t7\t8\t9\t10\t\n",
      "2\t4\t6\t8\t10\t12\t14\t16\t18\t20\t\n",
      "3\t6\t9\t12\t15\t18\t21\t24\t27\t30\t\n",
      "4\t8\t12\t16\t20\t24\t28\t32\t36\t40\t\n",
      "5\t10\t15\t20\t25\t30\t35\t40\t45\t50\t\n",
      "6\t12\t18\t24\t30\t36\t42\t48\t54\t60\t\n",
      "7\t14\t21\t28\t35\t42\t49\t56\t63\t70\t\n",
      "8\t16\t24\t32\t40\t48\t56\t64\t72\t80\t\n",
      "9\t18\t27\t36\t45\t54\t63\t72\t81\t90\t\n",
      "10\t20\t30\t40\t50\t60\t70\t80\t90\t100\t\n"
     ]
    }
   ],
   "source": [
    "i=1\n",
    "while i<11:\n",
    "    j=1\n",
    "    while j<11:\n",
    "        print(i*j,end=\"\\t\")\n",
    "        j=j+1\n",
    "    print()\n",
    "    i=i+1"
   ]
  },
  {
   "cell_type": "markdown",
   "id": "06cfb746",
   "metadata": {},
   "source": [
    "# print table from 11 to 20 using while loop"
   ]
  },
  {
   "cell_type": "code",
   "execution_count": 25,
   "id": "c3cf3c33",
   "metadata": {},
   "outputs": [
    {
     "name": "stdout",
     "output_type": "stream",
     "text": [
      "11\t12\t13\t14\t15\t16\t17\t18\t19\t20\t\n",
      "22\t24\t26\t28\t30\t32\t34\t36\t38\t40\t\n",
      "33\t36\t39\t42\t45\t48\t51\t54\t57\t60\t\n",
      "44\t48\t52\t56\t60\t64\t68\t72\t76\t80\t\n",
      "55\t60\t65\t70\t75\t80\t85\t90\t95\t100\t\n",
      "66\t72\t78\t84\t90\t96\t102\t108\t114\t120\t\n",
      "77\t84\t91\t98\t105\t112\t119\t126\t133\t140\t\n",
      "88\t96\t104\t112\t120\t128\t136\t144\t152\t160\t\n",
      "99\t108\t117\t126\t135\t144\t153\t162\t171\t180\t\n",
      "110\t120\t130\t140\t150\t160\t170\t180\t190\t200\t\n"
     ]
    }
   ],
   "source": [
    "i=1\n",
    "while i<11:\n",
    "    j=11\n",
    "    while j<21:\n",
    "        print(i*j,end=\"\\t\")\n",
    "        j=j+1\n",
    "    print(\"\")\n",
    "    i=i+1"
   ]
  },
  {
   "cell_type": "code",
   "execution_count": 26,
   "id": "7efd56a3",
   "metadata": {},
   "outputs": [
    {
     "name": "stdout",
     "output_type": "stream",
     "text": [
      "monday\n",
      "tuesday\n",
      "wednesday\n",
      "thursday\n",
      "friday\n"
     ]
    }
   ],
   "source": [
    "days=[\"monday\",'tuesday','wednesday','thursday','friday','saturday','sunday']\n",
    "for i in days:\n",
    "    print(i)\n",
    "    if i==\"friday\":\n",
    "        break\n",
    "\n",
    " "
   ]
  },
  {
   "cell_type": "markdown",
   "id": "2e33c5c8",
   "metadata": {},
   "source": [
    "# conditional statement"
   ]
  },
  {
   "cell_type": "code",
   "execution_count": 27,
   "id": "6196af95",
   "metadata": {},
   "outputs": [
    {
     "name": "stdout",
     "output_type": "stream",
     "text": [
      "equal\n"
     ]
    }
   ],
   "source": [
    "if 20==20:\n",
    "    print(\"equal\")\n",
    "else:\n",
    "    print(\"not equal\")"
   ]
  },
  {
   "cell_type": "code",
   "execution_count": 28,
   "id": "cd811433",
   "metadata": {},
   "outputs": [
    {
     "name": "stdout",
     "output_type": "stream",
     "text": [
      "not equal\n"
     ]
    }
   ],
   "source": [
    "if 10!=10:\n",
    "    print(\"equal\")\n",
    "else:\n",
    "    print(\"not equal\")"
   ]
  },
  {
   "cell_type": "code",
   "execution_count": 29,
   "id": "3083332f",
   "metadata": {},
   "outputs": [
    {
     "name": "stdout",
     "output_type": "stream",
     "text": [
      "10 is less than 15\n"
     ]
    }
   ],
   "source": [
    "i=10\n",
    "j=15\n",
    "if i>j:\n",
    "    print(\"10 is greater than 15\")\n",
    "else:\n",
    "    print(\"10 is less than 15\")"
   ]
  },
  {
   "cell_type": "markdown",
   "id": "51852fa9",
   "metadata": {},
   "source": [
    "# how to find number is even or odd"
   ]
  },
  {
   "cell_type": "code",
   "execution_count": 30,
   "id": "8af5439c",
   "metadata": {},
   "outputs": [
    {
     "name": "stdout",
     "output_type": "stream",
     "text": [
      "Enter a number : 4\n",
      "number is even 4\n"
     ]
    }
   ],
   "source": [
    "num=int(input(\"Enter a number : \"))\n",
    "if num%2==0:\n",
    "    print(\"number is even\",num)\n",
    "else:\n",
    "    print(\"number is odd\")"
   ]
  },
  {
   "cell_type": "code",
   "execution_count": 32,
   "id": "fb9a53a1",
   "metadata": {},
   "outputs": [
    {
     "name": "stdout",
     "output_type": "stream",
     "text": [
      "Enter a number : 5\n",
      "number is odd 5\n"
     ]
    }
   ],
   "source": [
    "num=int(input(\"Enter a number : \"))\n",
    "if num%2==0:\n",
    "    print(\"number is even\",num)\n",
    "else:\n",
    "    print(\"number is odd\",num)"
   ]
  },
  {
   "cell_type": "code",
   "execution_count": 33,
   "id": "ecfcfbee",
   "metadata": {},
   "outputs": [],
   "source": [
    "num=[1,2,3,4,5,6,7]"
   ]
  },
  {
   "cell_type": "code",
   "execution_count": 34,
   "id": "b8051875",
   "metadata": {},
   "outputs": [
    {
     "data": {
      "text/plain": [
       "list"
      ]
     },
     "execution_count": 34,
     "metadata": {},
     "output_type": "execute_result"
    }
   ],
   "source": [
    "type(num)"
   ]
  },
  {
   "cell_type": "code",
   "execution_count": 35,
   "id": "13441bea",
   "metadata": {},
   "outputs": [
    {
     "name": "stdout",
     "output_type": "stream",
     "text": [
      "1\n",
      "2\n",
      "3\n",
      "4\n",
      "5\n",
      "6\n",
      "7\n"
     ]
    }
   ],
   "source": [
    "for i in num:\n",
    "    print(i)"
   ]
  },
  {
   "cell_type": "code",
   "execution_count": 40,
   "id": "de50bb58",
   "metadata": {},
   "outputs": [
    {
     "name": "stdout",
     "output_type": "stream",
     "text": [
      "number is odd 1\n",
      "number is even 2\n",
      "number is odd 3\n",
      "number is even 4\n",
      "number is odd 5\n",
      "number is even 6\n",
      "number is odd 7\n"
     ]
    }
   ],
   "source": [
    "for i in num:\n",
    "    if i%2 == 0:\n",
    "        print(\"number is even\",i)\n",
    "    else:\n",
    "        print(\"number is odd\",i)"
   ]
  },
  {
   "cell_type": "code",
   "execution_count": 42,
   "id": "4ee34d36",
   "metadata": {},
   "outputs": [],
   "source": [
    "numbers=[1,2,3,4,5,6,7,8,9,10]"
   ]
  },
  {
   "cell_type": "code",
   "execution_count": 43,
   "id": "be8db18f",
   "metadata": {},
   "outputs": [
    {
     "name": "stdout",
     "output_type": "stream",
     "text": [
      "number is odd 1\n",
      "number is even 2\n",
      "number is odd 3\n",
      "number is even 4\n",
      "number is odd 5\n",
      "number is even 6\n",
      "number is odd 7\n",
      "number is even 8\n",
      "number is odd 9\n",
      "number is even 10\n"
     ]
    }
   ],
   "source": [
    "for j in numbers:\n",
    "    if j%2 == 0:\n",
    "        print(\"number is even\",j)\n",
    "    else:\n",
    "        print(\"number is odd\",j)"
   ]
  },
  {
   "cell_type": "code",
   "execution_count": null,
   "id": "94fab932",
   "metadata": {},
   "outputs": [],
   "source": []
  }
 ],
 "metadata": {
  "kernelspec": {
   "display_name": "Python 3",
   "language": "python",
   "name": "python3"
  },
  "language_info": {
   "codemirror_mode": {
    "name": "ipython",
    "version": 3
   },
   "file_extension": ".py",
   "mimetype": "text/x-python",
   "name": "python",
   "nbconvert_exporter": "python",
   "pygments_lexer": "ipython3",
   "version": "3.8.8"
  }
 },
 "nbformat": 4,
 "nbformat_minor": 5
}
